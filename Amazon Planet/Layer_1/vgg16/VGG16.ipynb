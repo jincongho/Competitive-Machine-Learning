{
 "cells": [
  {
   "cell_type": "code",
   "execution_count": null,
   "metadata": {
    "collapsed": false,
    "deletable": true,
    "editable": true
   },
   "outputs": [],
   "source": [
    "import numpy as np\n",
    "import pandas as pd\n",
    "import os\n",
    "import gc\n",
    "import matplotlib.pyplot as plt\n",
    "import cv2\n",
    "from tqdm import tqdm\n",
    "from multiprocessing import Pool, cpu_count    "
   ]
  },
  {
   "cell_type": "code",
   "execution_count": null,
   "metadata": {
    "collapsed": true,
    "deletable": true,
    "editable": true
   },
   "outputs": [],
   "source": [
    "%matplotlib inline"
   ]
  },
  {
   "cell_type": "markdown",
   "metadata": {
    "deletable": true,
    "editable": true
   },
   "source": [
    "# 1. Data Preprocessing"
   ]
  },
  {
   "cell_type": "code",
   "execution_count": null,
   "metadata": {
    "collapsed": true,
    "deletable": true,
    "editable": true
   },
   "outputs": [],
   "source": [
    "img_height = 128\n",
    "img_width  = 128"
   ]
  },
  {
   "cell_type": "code",
   "execution_count": null,
   "metadata": {
    "collapsed": true,
    "deletable": true,
    "editable": true
   },
   "outputs": [],
   "source": [
    "inv_label_map = ['blow_down',\n",
    " 'bare_ground',\n",
    " 'conventional_mine',\n",
    " 'blooming',\n",
    " 'cultivation',\n",
    " 'artisinal_mine',\n",
    " 'haze',\n",
    " 'primary',\n",
    " 'slash_burn',\n",
    " 'habitation',\n",
    " 'clear',\n",
    " 'road',\n",
    " 'selective_logging',\n",
    " 'partly_cloudy',\n",
    " 'agriculture',\n",
    " 'water',\n",
    " 'cloudy']\n",
    "\n",
    "label_map = {'agriculture': 14,\n",
    " 'artisinal_mine': 5,\n",
    " 'bare_ground': 1,\n",
    " 'blooming': 3,\n",
    " 'blow_down': 0,\n",
    " 'clear': 10,\n",
    " 'cloudy': 16,\n",
    " 'conventional_mine': 2,\n",
    " 'cultivation': 4,\n",
    " 'habitation': 9,\n",
    " 'haze': 6,\n",
    " 'partly_cloudy': 13,\n",
    " 'primary': 7,\n",
    " 'road': 11,\n",
    " 'selective_logging': 12,\n",
    " 'slash_burn': 8,\n",
    " 'water': 15}"
   ]
  },
  {
   "cell_type": "code",
   "execution_count": null,
   "metadata": {
    "collapsed": false,
    "deletable": true,
    "editable": true
   },
   "outputs": [],
   "source": [
    "df_train = pd.read_csv('../input/train.csv')\n",
    "Y = df_train.iloc[:,1:].values\n",
    "names = df_train['image_name']\n",
    "\n",
    "i = 0\n",
    "X = np.empty((names.shape[0], img_height, img_width, 3), dtype=np.float16)\n",
    "for f in tqdm(names.values, miniters=1000):\n",
    "    img = cv2.imread('../input/train-jpg/{}.jpg'.format(f))\n",
    "    if img_height != img.shape[0]:\n",
    "        img = cv2.resize(img, (img_height, img_width))\n",
    "    X[i,:,:,:] = np.array(img, np.float16)\n",
    "    i += 1\n",
    "X = X / 255.\n",
    "\n",
    "#deprecated parallel reading because exceed memory when passing data back\n",
    "'''\n",
    "def get_images(names):\n",
    "    i = 0\n",
    "    X = np.empty((names.shape[0], img_height, img_width, 3), dtype=np.float16)\n",
    "    for f in tqdm(names.values, miniters=1000):\n",
    "        img = cv2.imread('../input/train-jpg/{}.jpg'.format(f))\n",
    "        if img_height != img.shape[0]:\n",
    "            img = cv2.resize(img, (img_height, img_width))\n",
    "        X[i,:,:,:] = np.array(img, np.float16)\n",
    "        i += 1\n",
    "    return X / 255.\n",
    "\n",
    "#multiply cpu_count if cannot fit memory\n",
    "pool = Pool(cpu_count())\n",
    "X = np.concatenate(pool.map(\n",
    "    get_images, \n",
    "    np.array_split(df_train['image_name'], cpu_count())\n",
    "))\n",
    "pool.close()\n",
    "pool.join()'''\n",
    "print(X.shape)"
   ]
  },
  {
   "cell_type": "markdown",
   "metadata": {
    "deletable": true,
    "editable": true
   },
   "source": [
    "# 2. Model Training"
   ]
  },
  {
   "cell_type": "code",
   "execution_count": null,
   "metadata": {
    "collapsed": false,
    "deletable": true,
    "editable": true
   },
   "outputs": [],
   "source": [
    "from sklearn.model_selection import train_test_split"
   ]
  },
  {
   "cell_type": "code",
   "execution_count": null,
   "metadata": {
    "collapsed": false,
    "deletable": true,
    "editable": true
   },
   "outputs": [],
   "source": [
    "x_train, x_valid, y_train, y_valid = train_test_split(X, Y, test_size=0.2, random_state=42)"
   ]
  },
  {
   "cell_type": "code",
   "execution_count": null,
   "metadata": {
    "collapsed": false,
    "deletable": true,
    "editable": true
   },
   "outputs": [],
   "source": [
    "from keras.applications.vgg16 import VGG16\n",
    "from keras import backend as K\n",
    "from keras.models import Sequential, Model\n",
    "from keras.layers import Dense, Dropout, Flatten\n",
    "from keras.layers import Conv2D, MaxPooling2D, BatchNormalization\n",
    "from keras.callbacks import EarlyStopping, ModelCheckpoint\n",
    "from keras.optimizers import Adam, SGD\n",
    "from keras.preprocessing.image import ImageDataGenerator"
   ]
  },
  {
   "cell_type": "code",
   "execution_count": null,
   "metadata": {
    "collapsed": true,
    "deletable": true,
    "editable": true
   },
   "outputs": [],
   "source": [
    "def fbeta(y_true, y_pred):\n",
    "    beta = 2\n",
    "    threshold_shift = -0.3\n",
    "\n",
    "    # just in case of hipster activation at the final layer\n",
    "    y_pred = K.clip(y_pred, 0, 1)\n",
    "\n",
    "    # shifting the prediction threshold from .5 if needed\n",
    "    y_pred_bin = K.round(y_pred + threshold_shift)\n",
    "\n",
    "    tp = K.sum(K.round(y_true * y_pred_bin), axis=1) + K.epsilon()\n",
    "    fp = K.sum(K.round(K.clip(y_pred_bin - y_true, 0, 1)), axis=1)\n",
    "    fn = K.sum(K.round(K.clip(y_true - y_pred, 0, 1)), axis=1)\n",
    "\n",
    "    precision = tp / (tp + fp)\n",
    "    recall = tp / (tp + fn)\n",
    "\n",
    "    beta_squared = beta ** 2\n",
    "    return K.mean((beta_squared + 1) * (precision * recall) / (beta_squared * precision + recall + K.epsilon()))"
   ]
  },
  {
   "cell_type": "code",
   "execution_count": null,
   "metadata": {
    "collapsed": false,
    "deletable": true,
    "editable": true
   },
   "outputs": [],
   "source": [
    "base_model = VGG16(input_shape=(img_height,img_width,3), include_top=False)\n",
    "for layer in base_model.layers[:10]: \n",
    "    layer.trainable = False\n",
    "\n",
    "new_model = base_model.output\n",
    "new_model = Flatten()(new_model)\n",
    "new_model = Dense(4096, activation='relu')(new_model)\n",
    "new_model = Dropout(0.5)(new_model)\n",
    "new_model = Dense(4096, activation='relu')(new_model)\n",
    "new_model = Dropout(0.5)(new_model)\n",
    "new_model = Dense(17, activation='sigmoid')(new_model)\n",
    "\n",
    "model = Model(inputs=base_model.input, outputs=new_model)"
   ]
  },
  {
   "cell_type": "code",
   "execution_count": null,
   "metadata": {
    "collapsed": false,
    "deletable": true,
    "editable": true,
    "scrolled": true
   },
   "outputs": [],
   "source": [
    "epochs_arr = [20, 5, 5]\n",
    "learn_rates = [0.001, 0.0001, 0.00001]\n",
    "kfold_weights_path = os.path.join('', 'weights.h5')\n",
    "\n",
    "for learn_rate, epochs in zip(learn_rates, epochs_arr):\n",
    "    opt  = Adam(lr=learn_rate)\n",
    "    model.compile(loss='binary_crossentropy', # We NEED binary here, since categorical_crossentropy l1 norms the output before calculating loss.\n",
    "                  optimizer=opt,\n",
    "                  metrics=['accuracy', fbeta])\n",
    "    callbacks = [\n",
    "        EarlyStopping(monitor='val_loss', patience=2, verbose=2),\n",
    "        ModelCheckpoint(kfold_weights_path, monitor='val_loss', \n",
    "                        save_best_only=True, verbose=2)\n",
    "    ]\n",
    "    \n",
    "    #deprecated generator because exceed memory\n",
    "    '''model.fit_generator(train_generator.flow(x_train, y_train, batch_size=128),\n",
    "          steps_per_epoch=len(x_train) / 128,\n",
    "          epochs=epochs,\n",
    "          verbose=1,\n",
    "          workers=3,\n",
    "          validation_data=(x_valid, y_valid),\n",
    "          callbacks=callbacks)'''\n",
    "\n",
    "    model.fit(x = x_train, y= y_train, validation_data=(x_valid, y_valid),\n",
    "      batch_size=128,verbose=1, epochs=epochs,callbacks=callbacks,shuffle=True)"
   ]
  },
  {
   "cell_type": "code",
   "execution_count": null,
   "metadata": {
    "collapsed": true,
    "deletable": true,
    "editable": true
   },
   "outputs": [],
   "source": [
    "#save!\n",
    "model.save_weights('final.h5')"
   ]
  },
  {
   "cell_type": "code",
   "execution_count": null,
   "metadata": {
    "collapsed": false,
    "deletable": true,
    "editable": true
   },
   "outputs": [],
   "source": [
    "'''opt  = Adam(lr=0.001)\n",
    "model.compile(loss='binary_crossentropy', # We NEED binary here, since categorical_crossentropy l1 norms the output before calculating loss.\n",
    "                  optimizer=opt,\n",
    "                  metrics=['accuracy', fbeta])\n",
    "model.load_weights('final.h5')'''"
   ]
  },
  {
   "cell_type": "code",
   "execution_count": null,
   "metadata": {
    "collapsed": true,
    "deletable": true,
    "editable": true
   },
   "outputs": [],
   "source": [
    "kfold_weights_path = os.path.join('', 'weights.h5')\n",
    "if os.path.isfile(kfold_weights_path):\n",
    "    model.load_weights(kfold_weights_path)"
   ]
  },
  {
   "cell_type": "markdown",
   "metadata": {
    "deletable": true,
    "editable": true
   },
   "source": [
    "# 3. Model Evaluation"
   ]
  },
  {
   "cell_type": "code",
   "execution_count": null,
   "metadata": {
    "collapsed": true,
    "deletable": true,
    "editable": true
   },
   "outputs": [],
   "source": [
    "from sklearn.metrics import fbeta_score, accuracy_score"
   ]
  },
  {
   "cell_type": "code",
   "execution_count": null,
   "metadata": {
    "collapsed": false,
    "deletable": true,
    "editable": true
   },
   "outputs": [],
   "source": [
    "p_valid = model.predict(x_valid, batch_size=128, verbose=1)"
   ]
  },
  {
   "cell_type": "code",
   "execution_count": null,
   "metadata": {
    "collapsed": false,
    "deletable": true,
    "editable": true
   },
   "outputs": [],
   "source": [
    "print(fbeta_score(y_valid, np.array(p_valid) > 0.2, beta=2, average='samples'))"
   ]
  },
  {
   "cell_type": "code",
   "execution_count": null,
   "metadata": {
    "collapsed": false,
    "deletable": true,
    "editable": true
   },
   "outputs": [],
   "source": [
    "#save f2 score for stage 2 weighted\n",
    "scores = fbeta_score(y_valid, np.array(p_valid) > 0.2, beta=2, average=None)\n",
    "print('F2 test scores per tag:')\n",
    "for label, score in [(inv_label_map[l], scores[l]) for l in scores.argsort()[::-1]]:\n",
    "    print(label, ': ', score)\n",
    "pd.DataFrame([scores]).to_csv('f2.csv', index=False)"
   ]
  },
  {
   "cell_type": "code",
   "execution_count": null,
   "metadata": {
    "collapsed": false,
    "deletable": true,
    "editable": true
   },
   "outputs": [],
   "source": [
    "for i in range(17):\n",
    "    print(inv_label_map[i], '\\t:', accuracy_score(y_valid[:,i], p_valid[:,i]>0.2))"
   ]
  },
  {
   "cell_type": "code",
   "execution_count": null,
   "metadata": {
    "collapsed": false,
    "deletable": true,
    "editable": true
   },
   "outputs": [],
   "source": [
    "#predict train data for stage 2\n",
    "p_train = model.predict(X, batch_size=128, verbose=1)\n",
    "pd.DataFrame(p_train).to_csv('train.csv', index=False, float_format='%.3f')"
   ]
  },
  {
   "cell_type": "markdown",
   "metadata": {
    "collapsed": true,
    "deletable": true,
    "editable": true
   },
   "source": [
    "# 3. Make Prediction"
   ]
  },
  {
   "cell_type": "code",
   "execution_count": null,
   "metadata": {
    "collapsed": false,
    "deletable": true,
    "editable": true
   },
   "outputs": [],
   "source": [
    "df_submission = pd.read_csv('../input/sample_submission_v2.csv')\n",
    "\n",
    "def get_images(names):\n",
    "    i = 0\n",
    "    X = np.empty((names.shape[0], img_height, img_width, 3), dtype=np.float16)\n",
    "    for f in tqdm(names.values, miniters=1000):\n",
    "        img = cv2.imread('../input/test-jpg/{}.jpg'.format(f))\n",
    "        if img_height != img.shape[0]:\n",
    "            img = cv2.resize(img, (img_height, img_width))\n",
    "        X[i,:,:,:] = np.array(img, np.float16)\n",
    "        i += 1\n",
    "    return X / 255.\n",
    "\n",
    "pool = Pool(cpu_count())\n",
    "X_submission = np.concatenate(pool.map(\n",
    "    get_images, \n",
    "    np.array_split(df_submission['image_name'], cpu_count())\n",
    "))\n",
    "pool.close()\n",
    "pool.join()\n",
    "print(X_submission.shape)"
   ]
  },
  {
   "cell_type": "code",
   "execution_count": null,
   "metadata": {
    "collapsed": true,
    "deletable": true,
    "editable": true
   },
   "outputs": [],
   "source": [
    "predict = model.predict(X_submission, batch_size = 128, verbose=1)"
   ]
  },
  {
   "cell_type": "code",
   "execution_count": null,
   "metadata": {
    "collapsed": false,
    "deletable": true,
    "editable": true
   },
   "outputs": [],
   "source": [
    "#use raw wihout threshold!\n",
    "result = pd.DataFrame(np.array(predict) > 0.2)\n",
    "preds = []\n",
    "sorted_tags = pd.Series(inv_label_map)\n",
    "\n",
    "for i in tqdm(range(result.shape[0]), miniters=1000):\n",
    "    preds.append(' '.join(list(\n",
    "        sorted_tags[np.where(result.loc[i] == 1)[0]]\n",
    "    )))"
   ]
  },
  {
   "cell_type": "code",
   "execution_count": null,
   "metadata": {
    "collapsed": true,
    "deletable": true,
    "editable": true
   },
   "outputs": [],
   "source": [
    "df_submission['tags'] = preds\n",
    "df_submission.to_csv('test.csv', index=False)"
   ]
  }
 ],
 "metadata": {
  "kernelspec": {
   "display_name": "Python 3",
   "language": "python",
   "name": "python3"
  },
  "language_info": {
   "codemirror_mode": {
    "name": "ipython",
    "version": 3
   },
   "file_extension": ".py",
   "mimetype": "text/x-python",
   "name": "python",
   "nbconvert_exporter": "python",
   "pygments_lexer": "ipython3",
   "version": "3.5.2"
  },
  "widgets": {
   "state": {},
   "version": "1.1.2"
  }
 },
 "nbformat": 4,
 "nbformat_minor": 2
}
