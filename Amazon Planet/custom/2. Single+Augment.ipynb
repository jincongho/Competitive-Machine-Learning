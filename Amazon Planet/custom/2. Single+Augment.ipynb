{
 "cells": [
  {
   "cell_type": "code",
   "execution_count": null,
   "metadata": {
    "collapsed": false,
    "deletable": true,
    "editable": true
   },
   "outputs": [],
   "source": [
    "import numpy as np\n",
    "import pandas as pd\n",
    "import os\n",
    "import gc\n",
    "\n",
    "import keras as k\n",
    "\n",
    "import matplotlib.pyplot as plt\n",
    "import cv2\n",
    "from tqdm import tqdm\n",
    "from multiprocessing import Pool, cpu_count    "
   ]
  },
  {
   "cell_type": "code",
   "execution_count": null,
   "metadata": {
    "collapsed": true,
    "deletable": true,
    "editable": true
   },
   "outputs": [],
   "source": [
    "#%matplotlib inline"
   ]
  },
  {
   "cell_type": "code",
   "execution_count": null,
   "metadata": {
    "collapsed": false,
    "deletable": true,
    "editable": true
   },
   "outputs": [],
   "source": [
    "#np.empty((1, 256, 256, 3), dtype=np.float16).nbytes * 40000 / (1024*1024)"
   ]
  },
  {
   "cell_type": "markdown",
   "metadata": {
    "deletable": true,
    "editable": true
   },
   "source": [
    "# 1. Data Preprocessing"
   ]
  },
  {
   "cell_type": "code",
   "execution_count": null,
   "metadata": {
    "collapsed": true
   },
   "outputs": [],
   "source": [
    "label_map = ['blow_down',\n",
    " 'bare_ground',\n",
    " 'conventional_mine',\n",
    " 'blooming',\n",
    " 'cultivation',\n",
    " 'artisinal_mine',\n",
    " 'haze',\n",
    " 'primary',\n",
    " 'slash_burn',\n",
    " 'habitation',\n",
    " 'clear',\n",
    " 'road',\n",
    " 'selective_logging',\n",
    " 'partly_cloudy',\n",
    " 'agriculture',\n",
    " 'water',\n",
    " 'cloudy']\n",
    "\n",
    "inv_label_map = {'agriculture': 14,\n",
    " 'artisinal_mine': 5,\n",
    " 'bare_ground': 1,\n",
    " 'blooming': 3,\n",
    " 'blow_down': 0,\n",
    " 'clear': 10,\n",
    " 'cloudy': 16,\n",
    " 'conventional_mine': 2,\n",
    " 'cultivation': 4,\n",
    " 'habitation': 9,\n",
    " 'haze': 6,\n",
    " 'partly_cloudy': 13,\n",
    " 'primary': 7,\n",
    " 'road': 11,\n",
    " 'selective_logging': 12,\n",
    " 'slash_burn': 8,\n",
    " 'water': 15}"
   ]
  },
  {
   "cell_type": "code",
   "execution_count": null,
   "metadata": {
    "collapsed": true,
    "deletable": true,
    "editable": true
   },
   "outputs": [],
   "source": [
    "img_height = 64\n",
    "img_width  = 64"
   ]
  },
  {
   "cell_type": "code",
   "execution_count": null,
   "metadata": {
    "collapsed": false,
    "deletable": true,
    "editable": true
   },
   "outputs": [],
   "source": [
    "df_train = pd.read_csv('../input/train_v2.csv')\n",
    "\n",
    "flatten = lambda l: [item for sublist in l for item in sublist]\n",
    "labels = list(set(flatten([l.split(' ') for l in df_train['tags'].values])))\n",
    "\n",
    "#key not same cannot save keras model\n",
    "#label_map = {l: i for i, l in enumerate(labels)}\n",
    "#inv_label_map = {i: l for l, i in label_map.items()}\n",
    "\n",
    "Y = np.empty((df_train.shape[0]*5, 17), dtype=np.uint8)\n",
    "i=0\n",
    "for tags in tqdm(df_train['tags'].values, miniters=1000):\n",
    "    targets = np.zeros(17)\n",
    "    for t in tags.split(' '):\n",
    "        targets[label_map[t]] = 1 \n",
    "    for j in range(i,i+5):\n",
    "        Y[j,:] = targets\n",
    "    i += 5\n",
    "print(Y.shape)    \n",
    "\n",
    "def get_images(names):\n",
    "    i = 0\n",
    "    X = np.empty((names.shape[0]*5, img_height, img_width, 3), dtype=np.float16)\n",
    "    for f in tqdm(names.values, miniters=1000):\n",
    "        img = cv2.imread('../input/train-jpg/{}.jpg'.format(f))\n",
    "        if img_height != img.shape[0]:\n",
    "            img = cv2.resize(img, (img_height, img_width))\n",
    "        X[i,:,:,:] = np.array(img, np.float16)\n",
    "        X[i+1,:,:,:] = np.array(cv2.flip(img, 0), np.float16)\n",
    "        X[i+2,:,:,:] = np.array(cv2.flip(img, 1), np.float16)\n",
    "        M = cv2.getRotationMatrix2D((img_height/2,img_width/2),90,1)\n",
    "        X[i+3,:,:,:] = np.array(cv2.warpAffine(img, M, (img_height, img_width)))\n",
    "        N = cv2.getRotationMatrix2D((img_height/2,img_width/2),-90,1)\n",
    "        X[i+4,:,:,:] = np.array(cv2.warpAffine(img, N, (img_height, img_width)))\n",
    "        i += 5\n",
    "    return X / 255.\n",
    "\n",
    "#multiply cpu_count if cannot fit memory\n",
    "pool = Pool(cpu_count())\n",
    "X = np.concatenate(pool.map(\n",
    "    get_images, \n",
    "    np.array_split(df_train['image_name'], cpu_count())\n",
    "))\n",
    "pool.close()\n",
    "pool.join()\n",
    "print(X.shape)"
   ]
  },
  {
   "cell_type": "markdown",
   "metadata": {
    "deletable": true,
    "editable": true
   },
   "source": [
    "# 2. Model Building"
   ]
  },
  {
   "cell_type": "code",
   "execution_count": null,
   "metadata": {
    "collapsed": false,
    "deletable": true,
    "editable": true
   },
   "outputs": [],
   "source": [
    "from sklearn.model_selection import train_test_split"
   ]
  },
  {
   "cell_type": "code",
   "execution_count": null,
   "metadata": {
    "collapsed": false,
    "deletable": true,
    "editable": true
   },
   "outputs": [],
   "source": [
    "split = 35000\n",
    "#x_train, x_valid, y_train, y_valid = X[:split], X[split:], Y[:split], Y[split:]\n",
    "x_train, x_valid, y_train, y_valid = train_test_split(X, Y, test_size=0.2, random_state=42)"
   ]
  },
  {
   "cell_type": "code",
   "execution_count": null,
   "metadata": {
    "collapsed": true,
    "deletable": true,
    "editable": true
   },
   "outputs": [],
   "source": [
    "from keras import backend as K\n",
    "from keras.models import Sequential\n",
    "from keras.layers import Dense, Dropout, Flatten\n",
    "from keras.layers import Conv2D, MaxPooling2D, BatchNormalization\n",
    "from keras.callbacks import EarlyStopping, ModelCheckpoint\n",
    "from keras.optimizers import Adam\n",
    "from keras.preprocessing.image import ImageDataGenerator"
   ]
  },
  {
   "cell_type": "code",
   "execution_count": null,
   "metadata": {
    "collapsed": true,
    "deletable": true,
    "editable": true
   },
   "outputs": [],
   "source": [
    "def fbeta(y_true, y_pred):\n",
    "    beta = 2\n",
    "    threshold_shift = -0.3\n",
    "\n",
    "    # just in case of hipster activation at the final layer\n",
    "    y_pred = K.clip(y_pred, 0, 1)\n",
    "\n",
    "    # shifting the prediction threshold from .5 if needed\n",
    "    y_pred_bin = K.round(y_pred + threshold_shift)\n",
    "\n",
    "    tp = K.sum(K.round(y_true * y_pred_bin), axis=1) + K.epsilon()\n",
    "    fp = K.sum(K.round(K.clip(y_pred_bin - y_true, 0, 1)), axis=1)\n",
    "    fn = K.sum(K.round(K.clip(y_true - y_pred, 0, 1)), axis=1)\n",
    "\n",
    "    precision = tp / (tp + fp)\n",
    "    recall = tp / (tp + fn)\n",
    "\n",
    "    beta_squared = beta ** 2\n",
    "    return K.mean((beta_squared + 1) * (precision * recall) / (beta_squared * precision + recall + K.epsilon()))"
   ]
  },
  {
   "cell_type": "code",
   "execution_count": null,
   "metadata": {
    "collapsed": true,
    "deletable": true,
    "editable": true
   },
   "outputs": [],
   "source": [
    "train_generator = ImageDataGenerator(\n",
    "                        rotation_range=180,\n",
    "                        width_shift_range=0.2, \n",
    "                        height_shift_range=0.2,\n",
    "                        shear_range=0.2,\n",
    "                        zoom_range=2,\n",
    "                    )"
   ]
  },
  {
   "cell_type": "code",
   "execution_count": 43,
   "metadata": {
    "collapsed": true,
    "deletable": true,
    "editable": true
   },
   "outputs": [],
   "source": [
    "model = Sequential()\n",
    "model.add(BatchNormalization(input_shape=(64, 64,3)))\n",
    "model.add(Conv2D(32, kernel_size=(3, 3),padding='same', activation='relu'))\n",
    "model.add(Conv2D(32, (3, 3), activation='relu'))\n",
    "model.add(MaxPooling2D(pool_size=(2, 2)))\n",
    "model.add(Dropout(0.25))\n",
    "\n",
    "model.add(Conv2D(64, kernel_size=(3, 3),padding='same', activation='relu'))\n",
    "model.add(Conv2D(64, (3, 3), activation='relu'))\n",
    "model.add(MaxPooling2D(pool_size=(2, 2)))\n",
    "model.add(Dropout(0.25))\n",
    "\n",
    "model.add(Conv2D(128, kernel_size=(3, 3),padding='same', activation='relu'))\n",
    "model.add(Conv2D(128, (3, 3), activation='relu'))\n",
    "model.add(MaxPooling2D(pool_size=(2, 2)))\n",
    "model.add(Dropout(0.25))\n",
    "\n",
    "model.add(Conv2D(256, kernel_size=(3, 3),padding='same', activation='relu'))\n",
    "model.add(Conv2D(256, (3, 3), activation='relu'))\n",
    "model.add(MaxPooling2D(pool_size=(2, 2)))\n",
    "model.add(Dropout(0.25))\n",
    "\n",
    "model.add(Flatten())\n",
    "model.add(Dense(512, activation='relu'))\n",
    "model.add(BatchNormalization())\n",
    "model.add(Dropout(0.5))\n",
    "model.add(Dense(17, activation='sigmoid'))"
   ]
  },
  {
   "cell_type": "code",
   "execution_count": 44,
   "metadata": {
    "collapsed": true
   },
   "outputs": [],
   "source": [
    "opt  = Adam(lr=0.001)\n",
    "model.compile(loss='binary_crossentropy', # We NEED binary here, since categorical_crossentropy l1 norms the output before calculating loss.\n",
    "                  optimizer=opt,\n",
    "                  metrics=['accuracy', fbeta])"
   ]
  },
  {
   "cell_type": "code",
   "execution_count": null,
   "metadata": {
    "collapsed": false,
    "deletable": true,
    "editable": true,
    "scrolled": true
   },
   "outputs": [],
   "source": [
    "epochs_arr = [20, 5, 5]\n",
    "learn_rates = [0.001, 0.0001, 0.00001]\n",
    "kfold_weights_path = os.path.join('', 'weights.h5')\n",
    "\n",
    "for learn_rate, epochs in zip(learn_rates, epochs_arr):\n",
    "    opt  = Adam(lr=learn_rate)\n",
    "    model.compile(loss='binary_crossentropy', # We NEED binary here, since categorical_crossentropy l1 norms the output before calculating loss.\n",
    "                  optimizer=opt,\n",
    "                  metrics=['accuracy', fbeta])\n",
    "    callbacks = [\n",
    "        EarlyStopping(monitor='val_loss', patience=2, verbose=2),\n",
    "        ModelCheckpoint(kfold_weights_path, monitor='val_loss', \n",
    "                        save_best_only=True, verbose=2)\n",
    "    ]\n",
    "    \n",
    "    model.fit_generator(train_generator.flow(x_train, y_train, batch_size=128),\n",
    "          steps_per_epoch=len(x_train) / 128,\n",
    "          epochs=epochs,\n",
    "          verbose=1,\n",
    "          workers=3,\n",
    "          validation_data=(x_valid, y_valid),\n",
    "          callbacks=callbacks)\n",
    "\n",
    "    #model.fit(x = x_train, y= y_train, validation_data=(x_valid, y_valid),\n",
    "    #      batch_size=128,verbose=1, epochs=epochs,callbacks=callbacks,shuffle=True)"
   ]
  },
  {
   "cell_type": "code",
   "execution_count": null,
   "metadata": {
    "collapsed": true,
    "deletable": true,
    "editable": true
   },
   "outputs": [],
   "source": [
    "#save!\n",
    "model.save_weights('singlebest.h5')"
   ]
  },
  {
   "cell_type": "code",
   "execution_count": 45,
   "metadata": {
    "collapsed": true
   },
   "outputs": [],
   "source": [
    "#model.load_weights('singlebest.h5')"
   ]
  },
  {
   "cell_type": "code",
   "execution_count": null,
   "metadata": {
    "collapsed": true,
    "deletable": true,
    "editable": true
   },
   "outputs": [],
   "source": [
    "from sklearn.metrics import fbeta_score, accuracy_score"
   ]
  },
  {
   "cell_type": "code",
   "execution_count": null,
   "metadata": {
    "collapsed": false,
    "deletable": true,
    "editable": true
   },
   "outputs": [],
   "source": [
    "if os.path.isfile(kfold_weights_path):\n",
    "    model.load_weights(kfold_weights_path)"
   ]
  },
  {
   "cell_type": "code",
   "execution_count": null,
   "metadata": {
    "collapsed": false,
    "deletable": true,
    "editable": true
   },
   "outputs": [],
   "source": [
    "p_valid = model.predict(x_valid, batch_size=128, verbose=1)"
   ]
  },
  {
   "cell_type": "code",
   "execution_count": null,
   "metadata": {
    "collapsed": false,
    "deletable": true,
    "editable": true
   },
   "outputs": [],
   "source": [
    "print(fbeta_score(y_valid, np.array(p_valid) > 0.2, beta=2, average='samples'))"
   ]
  },
  {
   "cell_type": "code",
   "execution_count": null,
   "metadata": {
    "collapsed": false,
    "deletable": true,
    "editable": true
   },
   "outputs": [],
   "source": [
    "score = fbeta_score(y_valid, np.array(p_valid) > 0.2, beta=2, average=None)\n",
    "print('F2 test scores per tag:')\n",
    "[(inv_label_map[l], score[l]) for l in score.argsort()[::-1]]"
   ]
  },
  {
   "cell_type": "code",
   "execution_count": null,
   "metadata": {
    "collapsed": false,
    "deletable": true,
    "editable": true
   },
   "outputs": [],
   "source": [
    "for i in range(17):\n",
    "    print(inv_label_map[i], '\\t:', accuracy_score(y_valid[:,i], p_valid[:,i]>0.2))"
   ]
  },
  {
   "cell_type": "markdown",
   "metadata": {
    "collapsed": true,
    "deletable": true,
    "editable": true
   },
   "source": [
    "# 3. Make Prediction"
   ]
  },
  {
   "cell_type": "code",
   "execution_count": null,
   "metadata": {
    "collapsed": false,
    "deletable": true,
    "editable": true
   },
   "outputs": [],
   "source": [
    "df_submission = pd.read_csv('../input/sample_submission_v2.csv')\n",
    "\n",
    "def get_images(names):\n",
    "    i = 0\n",
    "    X = np.empty((names.shape[0], img_height, img_width, 3), dtype=np.float16)\n",
    "    for f in tqdm(names.values, miniters=1000):\n",
    "        img = cv2.imread('../input/test-jpg/{}.jpg'.format(f))\n",
    "        if img_height != img.shape[0]:\n",
    "            img = cv2.resize(img, (img_height, img_width))\n",
    "        X[i,:,:,:] = np.array(img, np.float16)\n",
    "        i += 1\n",
    "    return X / 255.\n",
    "\n",
    "pool = Pool(cpu_count())\n",
    "X_submission = np.concatenate(pool.map(\n",
    "    get_images, \n",
    "    np.array_split(df_submission['image_name'], cpu_count())\n",
    "))\n",
    "pool.close()\n",
    "pool.join()\n",
    "print(X_submission.shape)"
   ]
  },
  {
   "cell_type": "code",
   "execution_count": null,
   "metadata": {
    "collapsed": false,
    "deletable": true,
    "editable": true
   },
   "outputs": [],
   "source": [
    "predict = model.predict(X_submission, batch_size = 128, verbose=1)"
   ]
  },
  {
   "cell_type": "code",
   "execution_count": null,
   "metadata": {
    "collapsed": false,
    "deletable": true,
    "editable": true
   },
   "outputs": [],
   "source": [
    "result = pd.DataFrame(predict)\n",
    "preds = []\n",
    "sorted_tags = pd.Series(inv_label_map)\n",
    "\n",
    "for i in tqdm(range(result.shape[0]), miniters=1000):\n",
    "    preds.append(' '.join(list(\n",
    "        sorted_tags[np.where(result.loc[i] == 1)[0]]\n",
    "    )))"
   ]
  },
  {
   "cell_type": "code",
   "execution_count": null,
   "metadata": {
    "collapsed": true,
    "deletable": true,
    "editable": true
   },
   "outputs": [],
   "source": [
    "df_submission['tags'] = preds\n",
    "df_submission.to_csv('submission_best_augment.csv', index=False)"
   ]
  },
  {
   "cell_type": "code",
   "execution_count": null,
   "metadata": {
    "collapsed": true
   },
   "outputs": [],
   "source": []
  }
 ],
 "metadata": {
  "kernelspec": {
   "display_name": "Python 2",
   "language": "python",
   "name": "python2"
  },
  "language_info": {
   "codemirror_mode": {
    "name": "ipython",
    "version": 2
   },
   "file_extension": ".py",
   "mimetype": "text/x-python",
   "name": "python",
   "nbconvert_exporter": "python",
   "pygments_lexer": "ipython2",
   "version": "2.7.13"
  }
 },
 "nbformat": 4,
 "nbformat_minor": 2
}
