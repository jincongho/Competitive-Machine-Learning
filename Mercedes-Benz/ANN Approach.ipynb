{
 "cells": [
  {
   "cell_type": "code",
   "execution_count": 5,
   "metadata": {
    "collapsed": true
   },
   "outputs": [],
   "source": [
    "import numpy as np\n",
    "import pandas as pd\n",
    "from sklearn.model_selection import train_test_split\n",
    "from keras.models import Sequential\n",
    "from keras.layers import Dense, Activation, Dropout\n",
    "from keras.layers.advanced_activations import PReLU"
   ]
  },
  {
   "cell_type": "code",
   "execution_count": 2,
   "metadata": {
    "collapsed": false
   },
   "outputs": [
    {
     "name": "stdout",
     "output_type": "stream",
     "text": [
      "(4209, 589) (4209, 588)\n"
     ]
    }
   ],
   "source": [
    "data = pd.read_csv(\"train_processed.csv\")\n",
    "test = pd.read_csv(\"test_processed.csv\")\n",
    "print(data.shape, test.shape)"
   ]
  },
  {
   "cell_type": "markdown",
   "metadata": {},
   "source": [
    "## Train Test Split"
   ]
  },
  {
   "cell_type": "code",
   "execution_count": 3,
   "metadata": {
    "collapsed": true
   },
   "outputs": [],
   "source": [
    "dataset = data.drop(data.columns[[0,2,3,4,5,6,7,8,9]], axis=1).values.astype(int)\n",
    "X = dataset[:,[i for i in range(dataset.shape[1]) if i not in [0]]]\n",
    "Y = dataset[:,0]"
   ]
  },
  {
   "cell_type": "code",
   "execution_count": 6,
   "metadata": {
    "collapsed": true
   },
   "outputs": [],
   "source": [
    "seed = 420\n",
    "test_size = 0.33\n",
    "X_train, X_test, Y_train, Y_test = train_test_split(X, Y, test_size=test_size, \n",
    "                                                    random_state=seed)"
   ]
  },
  {
   "cell_type": "code",
   "execution_count": 8,
   "metadata": {
    "collapsed": false
   },
   "outputs": [
    {
     "name": "stdout",
     "output_type": "stream",
     "text": [
      "(2820, 579) (1389, 579) (2820,) (1389,)\n"
     ]
    }
   ],
   "source": [
    "print(X_train.shape, X_test.shape, Y_train.shape, Y_test.shape)"
   ]
  },
  {
   "cell_type": "markdown",
   "metadata": {},
   "source": [
    "## Model Training"
   ]
  },
  {
   "cell_type": "code",
   "execution_count": 60,
   "metadata": {
    "collapsed": true
   },
   "outputs": [],
   "source": [
    "from keras import backend as K\n",
    "def root_mean_squared_error(y_true, y_pred):\n",
    "        return K.sqrt(K.mean(K.square(y_pred - y_true), axis=-1)) "
   ]
  },
  {
   "cell_type": "code",
   "execution_count": 170,
   "metadata": {
    "collapsed": true
   },
   "outputs": [],
   "source": [
    "model = Sequential()"
   ]
  },
  {
   "cell_type": "code",
   "execution_count": 171,
   "metadata": {
    "collapsed": true
   },
   "outputs": [],
   "source": [
    "from keras import optimizers\n",
    "\n",
    "model.add(Dense(units=1200, input_dim=579, kernel_initializer='normal'))\n",
    "model.add(Activation('relu'))\n",
    "model.add(Dense(units=1200, kernel_initializer='normal'))\n",
    "model.add(Activation('relu'))\n",
    "model.add(Dense(units=1200, kernel_initializer='normal'))\n",
    "model.add(Activation('relu'))\n",
    "model.add(Dense(units=1200, kernel_initializer='normal'))\n",
    "model.add(Activation('relu'))\n",
    "model.add(Dense(units=1200, kernel_initializer='normal'))\n",
    "model.add(Activation('relu'))\n",
    "model.add(Dense(1, kernel_initializer='normal'))\n",
    "\n",
    "model.compile(loss=root_mean_squared_error, optimizer='adam', \n",
    "              metrics=[root_mean_squared_error])"
   ]
  },
  {
   "cell_type": "code",
   "execution_count": 172,
   "metadata": {
    "collapsed": false
   },
   "outputs": [
    {
     "name": "stdout",
     "output_type": "stream",
     "text": [
      "Epoch 1/20\n",
      "2820/2820 [==============================] - 0s - loss: 36.0826 - root_mean_squared_error: 36.0826     \n",
      "Epoch 2/20\n",
      "2820/2820 [==============================] - 0s - loss: 8.9450 - root_mean_squared_error: 8.9450     \n",
      "Epoch 3/20\n",
      "2820/2820 [==============================] - 0s - loss: 6.1727 - root_mean_squared_error: 6.1727     \n",
      "Epoch 4/20\n",
      "2820/2820 [==============================] - 0s - loss: 6.4205 - root_mean_squared_error: 6.4205     \n",
      "Epoch 5/20\n",
      "2820/2820 [==============================] - 0s - loss: 5.4087 - root_mean_squared_error: 5.4087     \n",
      "Epoch 6/20\n",
      "2820/2820 [==============================] - 0s - loss: 5.3696 - root_mean_squared_error: 5.3696     \n",
      "Epoch 7/20\n",
      "2820/2820 [==============================] - 0s - loss: 6.8962 - root_mean_squared_error: 6.8962     \n",
      "Epoch 8/20\n",
      "2820/2820 [==============================] - 0s - loss: 6.5035 - root_mean_squared_error: 6.5035     \n",
      "Epoch 9/20\n",
      "2820/2820 [==============================] - 0s - loss: 5.6493 - root_mean_squared_error: 5.6493     \n",
      "Epoch 10/20\n",
      "2820/2820 [==============================] - 0s - loss: 7.1119 - root_mean_squared_error: 7.1119     \n",
      "Epoch 11/20\n",
      "2820/2820 [==============================] - 0s - loss: 5.9380 - root_mean_squared_error: 5.9380     \n",
      "Epoch 12/20\n",
      "2820/2820 [==============================] - 0s - loss: 5.6184 - root_mean_squared_error: 5.6184     \n",
      "Epoch 13/20\n",
      "2820/2820 [==============================] - 0s - loss: 5.3124 - root_mean_squared_error: 5.3124     \n",
      "Epoch 14/20\n",
      "2820/2820 [==============================] - 0s - loss: 6.9693 - root_mean_squared_error: 6.9693     \n",
      "Epoch 15/20\n",
      "2820/2820 [==============================] - 0s - loss: 4.7557 - root_mean_squared_error: 4.7557     \n",
      "Epoch 16/20\n",
      "2820/2820 [==============================] - ETA: 0s - loss: 5.2868 - root_mean_squared_error: 5.286 - 0s - loss: 5.2801 - root_mean_squared_error: 5.2801     \n",
      "Epoch 17/20\n",
      "2820/2820 [==============================] - 0s - loss: 5.0922 - root_mean_squared_error: 5.0922     \n",
      "Epoch 18/20\n",
      "2820/2820 [==============================] - 0s - loss: 7.4703 - root_mean_squared_error: 7.4703     \n",
      "Epoch 19/20\n",
      "2820/2820 [==============================] - 0s - loss: 5.8380 - root_mean_squared_error: 5.8380     \n",
      "Epoch 20/20\n",
      "2820/2820 [==============================] - 0s - loss: 4.4433 - root_mean_squared_error: 4.4433     \n"
     ]
    },
    {
     "data": {
      "text/plain": [
       "<keras.callbacks.History at 0x7f1e399d9c88>"
      ]
     },
     "execution_count": 172,
     "metadata": {},
     "output_type": "execute_result"
    }
   ],
   "source": [
    "model.fit(X_train, Y_train, epochs=20, batch_size=128)"
   ]
  },
  {
   "cell_type": "code",
   "execution_count": 173,
   "metadata": {
    "collapsed": false
   },
   "outputs": [
    {
     "name": "stdout",
     "output_type": "stream",
     "text": [
      "\r",
      " 128/1389 [=>............................] - ETA: 3s"
     ]
    }
   ],
   "source": [
    "metrics = model.evaluate(X_test, Y_test, batch_size=128)"
   ]
  },
  {
   "cell_type": "code",
   "execution_count": 174,
   "metadata": {
    "collapsed": false
   },
   "outputs": [
    {
     "data": {
      "text/plain": [
       "[5.332056101832654, 5.3320560644134671]"
      ]
     },
     "execution_count": 174,
     "metadata": {},
     "output_type": "execute_result"
    }
   ],
   "source": [
    "metrics"
   ]
  },
  {
   "cell_type": "code",
   "execution_count": 175,
   "metadata": {
    "collapsed": false
   },
   "outputs": [
    {
     "data": {
      "text/plain": [
       "['loss', 'root_mean_squared_error']"
      ]
     },
     "execution_count": 175,
     "metadata": {},
     "output_type": "execute_result"
    }
   ],
   "source": [
    "model.metrics_names"
   ]
  },
  {
   "cell_type": "markdown",
   "metadata": {},
   "source": [
    "## Model Performance"
   ]
  },
  {
   "cell_type": "code",
   "execution_count": 176,
   "metadata": {
    "collapsed": true
   },
   "outputs": [],
   "source": [
    "from sklearn.metrics import r2_score"
   ]
  },
  {
   "cell_type": "code",
   "execution_count": 177,
   "metadata": {
    "collapsed": true
   },
   "outputs": [],
   "source": [
    "Y_pred = model.predict(X_test)"
   ]
  },
  {
   "cell_type": "code",
   "execution_count": 178,
   "metadata": {
    "collapsed": false
   },
   "outputs": [
    {
     "name": "stdout",
     "output_type": "stream",
     "text": [
      "Score: 57.72%\n"
     ]
    }
   ],
   "source": [
    "score = r2_score(Y_test, Y_pred)\n",
    "print(\"Score: %.2f%%\" % (score*100.0))"
   ]
  },
  {
   "cell_type": "markdown",
   "metadata": {},
   "source": [
    "## Make Predictions"
   ]
  },
  {
   "cell_type": "code",
   "execution_count": 179,
   "metadata": {
    "collapsed": true
   },
   "outputs": [],
   "source": [
    "X_submission = test.drop(test.columns[[0,1,2,3,4,5,6,7,8]], axis=1).values.astype(int)"
   ]
  },
  {
   "cell_type": "code",
   "execution_count": 180,
   "metadata": {
    "collapsed": true
   },
   "outputs": [],
   "source": [
    "Y_submission = model.predict(X_submission)"
   ]
  },
  {
   "cell_type": "code",
   "execution_count": 184,
   "metadata": {
    "collapsed": true
   },
   "outputs": [],
   "source": [
    "output = pd.DataFrame({'ID': test['ID'], 'y': Y_submission[:,0]})\n",
    "output.to_csv('submission4.csv', index=False)"
   ]
  },
  {
   "cell_type": "code",
   "execution_count": null,
   "metadata": {
    "collapsed": true
   },
   "outputs": [],
   "source": []
  }
 ],
 "metadata": {
  "kernelspec": {
   "display_name": "Python 3",
   "language": "python",
   "name": "python3"
  },
  "language_info": {
   "codemirror_mode": {
    "name": "ipython",
    "version": 3
   },
   "file_extension": ".py",
   "mimetype": "text/x-python",
   "name": "python",
   "nbconvert_exporter": "python",
   "pygments_lexer": "ipython3",
   "version": "3.6.0"
  }
 },
 "nbformat": 4,
 "nbformat_minor": 2
}
